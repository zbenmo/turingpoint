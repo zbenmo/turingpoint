{
 "cells": [
  {
   "cell_type": "code",
   "execution_count": 1,
   "id": "6b84d51f-64e6-4eb5-9a91-52303d5c79b7",
   "metadata": {},
   "outputs": [],
   "source": [
    "%load_ext autoreload\n",
    "%autoreload 2"
   ]
  },
  {
   "cell_type": "code",
   "execution_count": 2,
   "id": "dbec7bb9-299b-47eb-b931-2c0ac2072316",
   "metadata": {},
   "outputs": [],
   "source": [
    "from turingpoint.mcts import EnvNode, Action, TreeNode, MCTS\n",
    "from typing import Tuple, Generator\n",
    "import copy"
   ]
  },
  {
   "cell_type": "code",
   "execution_count": 3,
   "id": "411e56a2-0f20-4dc3-a06c-233451333c98",
   "metadata": {},
   "outputs": [],
   "source": [
    "import gymnasium as gym\n",
    "import matplotlib.pyplot as plt\n",
    "\n",
    "from IPython.display import clear_output\n",
    "from itertools import count"
   ]
  },
  {
   "cell_type": "code",
   "execution_count": 4,
   "id": "b97ed663-b147-4b05-b4fd-acd942861ef7",
   "metadata": {},
   "outputs": [],
   "source": [
    "cart_pole_env = gym.make(\"CartPole-v1\") #, render_mode=\"rgb_array\")"
   ]
  },
  {
   "cell_type": "code",
   "execution_count": 5,
   "id": "6dcb0296-d34b-4973-b54f-aab31a9bd6d6",
   "metadata": {},
   "outputs": [],
   "source": [
    "class GymEnvNode:\n",
    "    def __init__(self, env: gym.Env, obs, is_done=False):\n",
    "        self.env = env # take ownership of the passed in environment\n",
    "        self.obs = obs\n",
    "        self._is_done = is_done\n",
    "        \n",
    "    def step(self, action: Action) -> Tuple[float, EnvNode]:\n",
    "        copy_of_env = copy.deepcopy(self.env)\n",
    "        new_obs, reward, terminated, truncated, info = copy_of_env.step(action) \n",
    "        return reward, GymEnvNode(copy_of_env, new_obs, terminated or truncated)\n",
    "\n",
    "    def is_done(self) -> bool:\n",
    "        return self._is_done\n",
    "\n",
    "    def available_actions(self) -> Generator[Action, None, None]:\n",
    "        yield from range(self.env.action_space.n)\n",
    "\n",
    "    def __repr__(self):\n",
    "        return f'GymEnvNode(obs={self.obs}, is_done={self.is_done()})'"
   ]
  },
  {
   "cell_type": "code",
   "execution_count": 6,
   "id": "9b9173e4-3675-4b22-81f5-143670114dae",
   "metadata": {},
   "outputs": [],
   "source": [
    "obs, info = cart_pole_env.reset(seed=1)\n",
    "\n",
    "gym_env_node = GymEnvNode(copy.deepcopy(cart_pole_env), obs)"
   ]
  },
  {
   "cell_type": "code",
   "execution_count": 7,
   "id": "2327b17d-a4e8-4895-b97d-b373bc60a2f0",
   "metadata": {},
   "outputs": [
    {
     "data": {
      "text/plain": [
       "[0, 1]"
      ]
     },
     "execution_count": 7,
     "metadata": {},
     "output_type": "execute_result"
    }
   ],
   "source": [
    "list(gym_env_node.available_actions())"
   ]
  },
  {
   "cell_type": "code",
   "execution_count": 8,
   "id": "f972e71a-1e1e-4185-aa2a-7b402918db5a",
   "metadata": {},
   "outputs": [],
   "source": [
    "reward, next_gym_env_node = gym_env_node.step(0)"
   ]
  },
  {
   "cell_type": "code",
   "execution_count": 9,
   "id": "6c3fb79f-a304-4f32-b86f-7f0379bc5d78",
   "metadata": {},
   "outputs": [
    {
     "data": {
      "text/plain": [
       "(1.0,\n",
       " GymEnvNode(obs=[ 0.00208309 -0.14954773 -0.03468674  0.32611182], is_done=False))"
      ]
     },
     "execution_count": 9,
     "metadata": {},
     "output_type": "execute_result"
    }
   ],
   "source": [
    "reward, next_gym_env_node"
   ]
  },
  {
   "cell_type": "code",
   "execution_count": 10,
   "id": "58fe1f36-2c37-436d-afbc-ad986480c2d0",
   "metadata": {},
   "outputs": [
    {
     "data": {
      "text/plain": [
       "(1.0,\n",
       " GymEnvNode(obs=[ 0.00208309 -0.14954773 -0.03468674  0.32611182], is_done=False))"
      ]
     },
     "execution_count": 10,
     "metadata": {},
     "output_type": "execute_result"
    }
   ],
   "source": [
    "gym_env_node.step(0)"
   ]
  },
  {
   "cell_type": "code",
   "execution_count": 11,
   "id": "d7445d2b-c6b2-411f-b9c9-9b50fddc35b9",
   "metadata": {},
   "outputs": [],
   "source": [
    "#note: does not have to be the same, if there is some randomness in the environmnet or there are other players, etc."
   ]
  },
  {
   "cell_type": "code",
   "execution_count": 12,
   "id": "77beee75-4ee9-48d9-82d6-8a666325df80",
   "metadata": {},
   "outputs": [],
   "source": [
    "root = TreeNode(gym_env_node)"
   ]
  },
  {
   "cell_type": "code",
   "execution_count": 13,
   "id": "df14336c-1d7d-4923-bff3-ecca5a9e164c",
   "metadata": {},
   "outputs": [
    {
     "data": {
      "text/plain": [
       "TreeNode(env_node=GymEnvNode(obs=[ 0.00118216  0.04504637 -0.03558404  0.04486495], is_done=False), action=None, parent=None, children=None, times_visited=0, qvalue_sum=0.0, immediate_reward=0.0)"
      ]
     },
     "execution_count": 13,
     "metadata": {},
     "output_type": "execute_result"
    }
   ],
   "source": [
    "root"
   ]
  },
  {
   "cell_type": "code",
   "execution_count": 14,
   "id": "91947fe2-152a-419e-8db9-db31976d8812",
   "metadata": {},
   "outputs": [],
   "source": [
    "mcts = MCTS()"
   ]
  },
  {
   "cell_type": "code",
   "execution_count": 15,
   "id": "7cee6668-f018-42eb-b666-9eee8bda26ea",
   "metadata": {},
   "outputs": [],
   "source": [
    "mcts.plan(root, n_iters=2)"
   ]
  },
  {
   "cell_type": "code",
   "execution_count": 16,
   "id": "dc3a3c8c-acdc-4794-b9ad-207b9eabc795",
   "metadata": {},
   "outputs": [
    {
     "data": {
      "text/plain": [
       "TreeNode(env_node=GymEnvNode(obs=[ 0.00118216  0.04504637 -0.03558404  0.04486495], is_done=False), action=None, parent=None, children={0: TreeNode(env_node=GymEnvNode(obs=[ 0.00208309 -0.14954773 -0.03468674  0.32611182], is_done=False), action=0, parent=..., children=None, times_visited=1, qvalue_sum=1.0, immediate_reward=1.0), 1: TreeNode(env_node=GymEnvNode(obs=[ 0.00208309  0.24066003 -0.03468674 -0.2588293 ], is_done=False), action=1, parent=..., children={0: TreeNode(env_node=GymEnvNode(obs=[ 0.00689629  0.04605    -0.03986333  0.0227143 ], is_done=False), action=0, parent=..., children=None, times_visited=1, qvalue_sum=1.0, immediate_reward=1.0), 1: TreeNode(env_node=None, action=1, parent=..., children=None, times_visited=0, qvalue_sum=0.0, immediate_reward=0.0)}, times_visited=1, qvalue_sum=2.0, immediate_reward=1.0)}, times_visited=2, qvalue_sum=3.0, immediate_reward=0.0)"
      ]
     },
     "execution_count": 16,
     "metadata": {},
     "output_type": "execute_result"
    }
   ],
   "source": [
    "root"
   ]
  },
  {
   "cell_type": "code",
   "execution_count": 17,
   "id": "c7f539db-b0fe-49be-8590-5974df9d30d4",
   "metadata": {},
   "outputs": [
    {
     "data": {
      "text/plain": [
       "False"
      ]
     },
     "execution_count": 17,
     "metadata": {},
     "output_type": "execute_result"
    }
   ],
   "source": [
    "gym_env_node.is_done()"
   ]
  },
  {
   "cell_type": "code",
   "execution_count": 18,
   "id": "baf9d911-8fc4-4088-90e6-1c34b3fa840d",
   "metadata": {
    "scrolled": true
   },
   "outputs": [],
   "source": [
    "mcts.plan(root)"
   ]
  },
  {
   "cell_type": "code",
   "execution_count": 19,
   "id": "a7df944b-2be9-40b7-a882-571824e12ce9",
   "metadata": {
    "scrolled": true
   },
   "outputs": [
    {
     "name": "stdout",
     "output_type": "stream",
     "text": [
      "0 5.2727272727272725\n",
      "1 84.92506770990069\n"
     ]
    }
   ],
   "source": [
    "for c in root.children.values():\n",
    "    print(c.action, c.get_qvalue_estimate())"
   ]
  },
  {
   "cell_type": "code",
   "execution_count": 20,
   "id": "dd4cdebf-971b-4105-83e4-9b71a91c8a98",
   "metadata": {},
   "outputs": [],
   "source": [
    "def get_root(cart_pole_env, obs):\n",
    "    if cart_pole_env.unwrapped.isopen:\n",
    "        # cart_pole_env.unwrapped.surf.close()\n",
    "        cart_pole_env.unwrapped.clock = None\n",
    "        cart_pole_env.unwrapped.screen = None\n",
    "    gym_env_node = GymEnvNode(copy.deepcopy(cart_pole_env), obs)\n",
    "    return TreeNode(gym_env_node)"
   ]
  },
  {
   "cell_type": "code",
   "execution_count": 21,
   "id": "4b6a3ece-4d6a-48ab-a640-dd0263d56666",
   "metadata": {},
   "outputs": [],
   "source": [
    "cart_pole_env = gym.make(\"CartPole-v1\", render_mode=\"rgb_array\")\n",
    "obs, _ = cart_pole_env.reset()"
   ]
  },
  {
   "cell_type": "code",
   "execution_count": 22,
   "id": "13ba7902-a3cc-45e5-b42f-7b90148b7dfa",
   "metadata": {},
   "outputs": [
    {
     "name": "stderr",
     "output_type": "stream",
     "text": [
      "Authorization required, but no authorization protocol specified\n"
     ]
    },
    {
     "data": {
      "image/png": "[encoded data removed]",
      "text/plain": [
       "<Figure size 640x480 with 1 Axes>"
      ]
     },
     "metadata": {},
     "output_type": "display_data"
    },
    {
     "ename": "TypeError",
     "evalue": "cannot pickle 'pygame.Surface' object",
     "output_type": "error",
     "traceback": [
      "\u001b[0;31m---------------------------------------------------------------------------\u001b[0m",
      "\u001b[0;31mTypeError\u001b[0m                                 Traceback (most recent call last)",
      "Cell \u001b[0;32mIn[22], line 8\u001b[0m\n\u001b[1;32m      4\u001b[0m \u001b[38;5;66;03m# test_env = loads(root_snapshot)  # env used to show progress\u001b[39;00m\n\u001b[1;32m      6\u001b[0m \u001b[38;5;28;01mfor\u001b[39;00m i \u001b[38;5;129;01min\u001b[39;00m count():\n\u001b[0;32m----> 8\u001b[0m     root \u001b[38;5;241m=\u001b[39m \u001b[43mget_root\u001b[49m\u001b[43m(\u001b[49m\u001b[43mcart_pole_env\u001b[49m\u001b[43m,\u001b[49m\u001b[43m \u001b[49m\u001b[43mobs\u001b[49m\u001b[43m)\u001b[49m\n\u001b[1;32m      9\u001b[0m     mcts\u001b[38;5;241m.\u001b[39mplan(root)\n\u001b[1;32m     11\u001b[0m     \u001b[38;5;66;03m# get best child\u001b[39;00m\n",
      "Cell \u001b[0;32mIn[20], line 6\u001b[0m, in \u001b[0;36mget_root\u001b[0;34m(cart_pole_env, obs)\u001b[0m\n\u001b[1;32m      4\u001b[0m     cart_pole_env\u001b[38;5;241m.\u001b[39munwrapped\u001b[38;5;241m.\u001b[39mclock \u001b[38;5;241m=\u001b[39m \u001b[38;5;28;01mNone\u001b[39;00m\n\u001b[1;32m      5\u001b[0m     cart_pole_env\u001b[38;5;241m.\u001b[39munwrapped\u001b[38;5;241m.\u001b[39mscreen \u001b[38;5;241m=\u001b[39m \u001b[38;5;28;01mNone\u001b[39;00m\n\u001b[0;32m----> 6\u001b[0m gym_env_node \u001b[38;5;241m=\u001b[39m GymEnvNode(\u001b[43mcopy\u001b[49m\u001b[38;5;241;43m.\u001b[39;49m\u001b[43mdeepcopy\u001b[49m\u001b[43m(\u001b[49m\u001b[43mcart_pole_env\u001b[49m\u001b[43m)\u001b[49m, obs)\n\u001b[1;32m      7\u001b[0m \u001b[38;5;28;01mreturn\u001b[39;00m TreeNode(gym_env_node)\n",
      "File \u001b[0;32m/usr/lib/python3.8/copy.py:172\u001b[0m, in \u001b[0;36mdeepcopy\u001b[0;34m(x, memo, _nil)\u001b[0m\n\u001b[1;32m    170\u001b[0m                 y \u001b[38;5;241m=\u001b[39m x\n\u001b[1;32m    171\u001b[0m             \u001b[38;5;28;01melse\u001b[39;00m:\n\u001b[0;32m--> 172\u001b[0m                 y \u001b[38;5;241m=\u001b[39m \u001b[43m_reconstruct\u001b[49m\u001b[43m(\u001b[49m\u001b[43mx\u001b[49m\u001b[43m,\u001b[49m\u001b[43m \u001b[49m\u001b[43mmemo\u001b[49m\u001b[43m,\u001b[49m\u001b[43m \u001b[49m\u001b[38;5;241;43m*\u001b[39;49m\u001b[43mrv\u001b[49m\u001b[43m)\u001b[49m\n\u001b[1;32m    174\u001b[0m \u001b[38;5;66;03m# If is its own copy, don't memoize.\u001b[39;00m\n\u001b[1;32m    175\u001b[0m \u001b[38;5;28;01mif\u001b[39;00m y \u001b[38;5;129;01mis\u001b[39;00m \u001b[38;5;129;01mnot\u001b[39;00m x:\n",
      "File \u001b[0;32m/usr/lib/python3.8/copy.py:270\u001b[0m, in \u001b[0;36m_reconstruct\u001b[0;34m(x, memo, func, args, state, listiter, dictiter, deepcopy)\u001b[0m\n\u001b[1;32m    268\u001b[0m \u001b[38;5;28;01mif\u001b[39;00m state \u001b[38;5;129;01mis\u001b[39;00m \u001b[38;5;129;01mnot\u001b[39;00m \u001b[38;5;28;01mNone\u001b[39;00m:\n\u001b[1;32m    269\u001b[0m     \u001b[38;5;28;01mif\u001b[39;00m deep:\n\u001b[0;32m--> 270\u001b[0m         state \u001b[38;5;241m=\u001b[39m \u001b[43mdeepcopy\u001b[49m\u001b[43m(\u001b[49m\u001b[43mstate\u001b[49m\u001b[43m,\u001b[49m\u001b[43m \u001b[49m\u001b[43mmemo\u001b[49m\u001b[43m)\u001b[49m\n\u001b[1;32m    271\u001b[0m     \u001b[38;5;28;01mif\u001b[39;00m \u001b[38;5;28mhasattr\u001b[39m(y, \u001b[38;5;124m'\u001b[39m\u001b[38;5;124m__setstate__\u001b[39m\u001b[38;5;124m'\u001b[39m):\n\u001b[1;32m    272\u001b[0m         y\u001b[38;5;241m.\u001b[39m__setstate__(state)\n",
      "File \u001b[0;32m/usr/lib/python3.8/copy.py:146\u001b[0m, in \u001b[0;36mdeepcopy\u001b[0;34m(x, memo, _nil)\u001b[0m\n\u001b[1;32m    144\u001b[0m copier \u001b[38;5;241m=\u001b[39m _deepcopy_dispatch\u001b[38;5;241m.\u001b[39mget(\u001b[38;5;28mcls\u001b[39m)\n\u001b[1;32m    145\u001b[0m \u001b[38;5;28;01mif\u001b[39;00m copier \u001b[38;5;129;01mis\u001b[39;00m \u001b[38;5;129;01mnot\u001b[39;00m \u001b[38;5;28;01mNone\u001b[39;00m:\n\u001b[0;32m--> 146\u001b[0m     y \u001b[38;5;241m=\u001b[39m \u001b[43mcopier\u001b[49m\u001b[43m(\u001b[49m\u001b[43mx\u001b[49m\u001b[43m,\u001b[49m\u001b[43m \u001b[49m\u001b[43mmemo\u001b[49m\u001b[43m)\u001b[49m\n\u001b[1;32m    147\u001b[0m \u001b[38;5;28;01melse\u001b[39;00m:\n\u001b[1;32m    148\u001b[0m     \u001b[38;5;28;01mif\u001b[39;00m \u001b[38;5;28missubclass\u001b[39m(\u001b[38;5;28mcls\u001b[39m, \u001b[38;5;28mtype\u001b[39m):\n",
      "File \u001b[0;32m/usr/lib/python3.8/copy.py:230\u001b[0m, in \u001b[0;36m_deepcopy_dict\u001b[0;34m(x, memo, deepcopy)\u001b[0m\n\u001b[1;32m    228\u001b[0m memo[\u001b[38;5;28mid\u001b[39m(x)] \u001b[38;5;241m=\u001b[39m y\n\u001b[1;32m    229\u001b[0m \u001b[38;5;28;01mfor\u001b[39;00m key, value \u001b[38;5;129;01min\u001b[39;00m x\u001b[38;5;241m.\u001b[39mitems():\n\u001b[0;32m--> 230\u001b[0m     y[deepcopy(key, memo)] \u001b[38;5;241m=\u001b[39m \u001b[43mdeepcopy\u001b[49m\u001b[43m(\u001b[49m\u001b[43mvalue\u001b[49m\u001b[43m,\u001b[49m\u001b[43m \u001b[49m\u001b[43mmemo\u001b[49m\u001b[43m)\u001b[49m\n\u001b[1;32m    231\u001b[0m \u001b[38;5;28;01mreturn\u001b[39;00m y\n",
      "File \u001b[0;32m/usr/lib/python3.8/copy.py:172\u001b[0m, in \u001b[0;36mdeepcopy\u001b[0;34m(x, memo, _nil)\u001b[0m\n\u001b[1;32m    170\u001b[0m                 y \u001b[38;5;241m=\u001b[39m x\n\u001b[1;32m    171\u001b[0m             \u001b[38;5;28;01melse\u001b[39;00m:\n\u001b[0;32m--> 172\u001b[0m                 y \u001b[38;5;241m=\u001b[39m \u001b[43m_reconstruct\u001b[49m\u001b[43m(\u001b[49m\u001b[43mx\u001b[49m\u001b[43m,\u001b[49m\u001b[43m \u001b[49m\u001b[43mmemo\u001b[49m\u001b[43m,\u001b[49m\u001b[43m \u001b[49m\u001b[38;5;241;43m*\u001b[39;49m\u001b[43mrv\u001b[49m\u001b[43m)\u001b[49m\n\u001b[1;32m    174\u001b[0m \u001b[38;5;66;03m# If is its own copy, don't memoize.\u001b[39;00m\n\u001b[1;32m    175\u001b[0m \u001b[38;5;28;01mif\u001b[39;00m y \u001b[38;5;129;01mis\u001b[39;00m \u001b[38;5;129;01mnot\u001b[39;00m x:\n",
      "File \u001b[0;32m/usr/lib/python3.8/copy.py:270\u001b[0m, in \u001b[0;36m_reconstruct\u001b[0;34m(x, memo, func, args, state, listiter, dictiter, deepcopy)\u001b[0m\n\u001b[1;32m    268\u001b[0m \u001b[38;5;28;01mif\u001b[39;00m state \u001b[38;5;129;01mis\u001b[39;00m \u001b[38;5;129;01mnot\u001b[39;00m \u001b[38;5;28;01mNone\u001b[39;00m:\n\u001b[1;32m    269\u001b[0m     \u001b[38;5;28;01mif\u001b[39;00m deep:\n\u001b[0;32m--> 270\u001b[0m         state \u001b[38;5;241m=\u001b[39m \u001b[43mdeepcopy\u001b[49m\u001b[43m(\u001b[49m\u001b[43mstate\u001b[49m\u001b[43m,\u001b[49m\u001b[43m \u001b[49m\u001b[43mmemo\u001b[49m\u001b[43m)\u001b[49m\n\u001b[1;32m    271\u001b[0m     \u001b[38;5;28;01mif\u001b[39;00m \u001b[38;5;28mhasattr\u001b[39m(y, \u001b[38;5;124m'\u001b[39m\u001b[38;5;124m__setstate__\u001b[39m\u001b[38;5;124m'\u001b[39m):\n\u001b[1;32m    272\u001b[0m         y\u001b[38;5;241m.\u001b[39m__setstate__(state)\n",
      "File \u001b[0;32m/usr/lib/python3.8/copy.py:146\u001b[0m, in \u001b[0;36mdeepcopy\u001b[0;34m(x, memo, _nil)\u001b[0m\n\u001b[1;32m    144\u001b[0m copier \u001b[38;5;241m=\u001b[39m _deepcopy_dispatch\u001b[38;5;241m.\u001b[39mget(\u001b[38;5;28mcls\u001b[39m)\n\u001b[1;32m    145\u001b[0m \u001b[38;5;28;01mif\u001b[39;00m copier \u001b[38;5;129;01mis\u001b[39;00m \u001b[38;5;129;01mnot\u001b[39;00m \u001b[38;5;28;01mNone\u001b[39;00m:\n\u001b[0;32m--> 146\u001b[0m     y \u001b[38;5;241m=\u001b[39m \u001b[43mcopier\u001b[49m\u001b[43m(\u001b[49m\u001b[43mx\u001b[49m\u001b[43m,\u001b[49m\u001b[43m \u001b[49m\u001b[43mmemo\u001b[49m\u001b[43m)\u001b[49m\n\u001b[1;32m    147\u001b[0m \u001b[38;5;28;01melse\u001b[39;00m:\n\u001b[1;32m    148\u001b[0m     \u001b[38;5;28;01mif\u001b[39;00m \u001b[38;5;28missubclass\u001b[39m(\u001b[38;5;28mcls\u001b[39m, \u001b[38;5;28mtype\u001b[39m):\n",
      "File \u001b[0;32m/usr/lib/python3.8/copy.py:230\u001b[0m, in \u001b[0;36m_deepcopy_dict\u001b[0;34m(x, memo, deepcopy)\u001b[0m\n\u001b[1;32m    228\u001b[0m memo[\u001b[38;5;28mid\u001b[39m(x)] \u001b[38;5;241m=\u001b[39m y\n\u001b[1;32m    229\u001b[0m \u001b[38;5;28;01mfor\u001b[39;00m key, value \u001b[38;5;129;01min\u001b[39;00m x\u001b[38;5;241m.\u001b[39mitems():\n\u001b[0;32m--> 230\u001b[0m     y[deepcopy(key, memo)] \u001b[38;5;241m=\u001b[39m \u001b[43mdeepcopy\u001b[49m\u001b[43m(\u001b[49m\u001b[43mvalue\u001b[49m\u001b[43m,\u001b[49m\u001b[43m \u001b[49m\u001b[43mmemo\u001b[49m\u001b[43m)\u001b[49m\n\u001b[1;32m    231\u001b[0m \u001b[38;5;28;01mreturn\u001b[39;00m y\n",
      "    \u001b[0;31m[... skipping similar frames: _deepcopy_dict at line 230 (1 times), _reconstruct at line 270 (1 times), deepcopy at line 172 (1 times), deepcopy at line 146 (1 times)]\u001b[0m\n",
      "File \u001b[0;32m/usr/lib/python3.8/copy.py:172\u001b[0m, in \u001b[0;36mdeepcopy\u001b[0;34m(x, memo, _nil)\u001b[0m\n\u001b[1;32m    170\u001b[0m                 y \u001b[38;5;241m=\u001b[39m x\n\u001b[1;32m    171\u001b[0m             \u001b[38;5;28;01melse\u001b[39;00m:\n\u001b[0;32m--> 172\u001b[0m                 y \u001b[38;5;241m=\u001b[39m \u001b[43m_reconstruct\u001b[49m\u001b[43m(\u001b[49m\u001b[43mx\u001b[49m\u001b[43m,\u001b[49m\u001b[43m \u001b[49m\u001b[43mmemo\u001b[49m\u001b[43m,\u001b[49m\u001b[43m \u001b[49m\u001b[38;5;241;43m*\u001b[39;49m\u001b[43mrv\u001b[49m\u001b[43m)\u001b[49m\n\u001b[1;32m    174\u001b[0m \u001b[38;5;66;03m# If is its own copy, don't memoize.\u001b[39;00m\n\u001b[1;32m    175\u001b[0m \u001b[38;5;28;01mif\u001b[39;00m y \u001b[38;5;129;01mis\u001b[39;00m \u001b[38;5;129;01mnot\u001b[39;00m x:\n",
      "File \u001b[0;32m/usr/lib/python3.8/copy.py:270\u001b[0m, in \u001b[0;36m_reconstruct\u001b[0;34m(x, memo, func, args, state, listiter, dictiter, deepcopy)\u001b[0m\n\u001b[1;32m    268\u001b[0m \u001b[38;5;28;01mif\u001b[39;00m state \u001b[38;5;129;01mis\u001b[39;00m \u001b[38;5;129;01mnot\u001b[39;00m \u001b[38;5;28;01mNone\u001b[39;00m:\n\u001b[1;32m    269\u001b[0m     \u001b[38;5;28;01mif\u001b[39;00m deep:\n\u001b[0;32m--> 270\u001b[0m         state \u001b[38;5;241m=\u001b[39m \u001b[43mdeepcopy\u001b[49m\u001b[43m(\u001b[49m\u001b[43mstate\u001b[49m\u001b[43m,\u001b[49m\u001b[43m \u001b[49m\u001b[43mmemo\u001b[49m\u001b[43m)\u001b[49m\n\u001b[1;32m    271\u001b[0m     \u001b[38;5;28;01mif\u001b[39;00m \u001b[38;5;28mhasattr\u001b[39m(y, \u001b[38;5;124m'\u001b[39m\u001b[38;5;124m__setstate__\u001b[39m\u001b[38;5;124m'\u001b[39m):\n\u001b[1;32m    272\u001b[0m         y\u001b[38;5;241m.\u001b[39m__setstate__(state)\n",
      "File \u001b[0;32m/usr/lib/python3.8/copy.py:146\u001b[0m, in \u001b[0;36mdeepcopy\u001b[0;34m(x, memo, _nil)\u001b[0m\n\u001b[1;32m    144\u001b[0m copier \u001b[38;5;241m=\u001b[39m _deepcopy_dispatch\u001b[38;5;241m.\u001b[39mget(\u001b[38;5;28mcls\u001b[39m)\n\u001b[1;32m    145\u001b[0m \u001b[38;5;28;01mif\u001b[39;00m copier \u001b[38;5;129;01mis\u001b[39;00m \u001b[38;5;129;01mnot\u001b[39;00m \u001b[38;5;28;01mNone\u001b[39;00m:\n\u001b[0;32m--> 146\u001b[0m     y \u001b[38;5;241m=\u001b[39m \u001b[43mcopier\u001b[49m\u001b[43m(\u001b[49m\u001b[43mx\u001b[49m\u001b[43m,\u001b[49m\u001b[43m \u001b[49m\u001b[43mmemo\u001b[49m\u001b[43m)\u001b[49m\n\u001b[1;32m    147\u001b[0m \u001b[38;5;28;01melse\u001b[39;00m:\n\u001b[1;32m    148\u001b[0m     \u001b[38;5;28;01mif\u001b[39;00m \u001b[38;5;28missubclass\u001b[39m(\u001b[38;5;28mcls\u001b[39m, \u001b[38;5;28mtype\u001b[39m):\n",
      "File \u001b[0;32m/usr/lib/python3.8/copy.py:230\u001b[0m, in \u001b[0;36m_deepcopy_dict\u001b[0;34m(x, memo, deepcopy)\u001b[0m\n\u001b[1;32m    228\u001b[0m memo[\u001b[38;5;28mid\u001b[39m(x)] \u001b[38;5;241m=\u001b[39m y\n\u001b[1;32m    229\u001b[0m \u001b[38;5;28;01mfor\u001b[39;00m key, value \u001b[38;5;129;01min\u001b[39;00m x\u001b[38;5;241m.\u001b[39mitems():\n\u001b[0;32m--> 230\u001b[0m     y[deepcopy(key, memo)] \u001b[38;5;241m=\u001b[39m \u001b[43mdeepcopy\u001b[49m\u001b[43m(\u001b[49m\u001b[43mvalue\u001b[49m\u001b[43m,\u001b[49m\u001b[43m \u001b[49m\u001b[43mmemo\u001b[49m\u001b[43m)\u001b[49m\n\u001b[1;32m    231\u001b[0m \u001b[38;5;28;01mreturn\u001b[39;00m y\n",
      "File \u001b[0;32m/usr/lib/python3.8/copy.py:161\u001b[0m, in \u001b[0;36mdeepcopy\u001b[0;34m(x, memo, _nil)\u001b[0m\n\u001b[1;32m    159\u001b[0m reductor \u001b[38;5;241m=\u001b[39m \u001b[38;5;28mgetattr\u001b[39m(x, \u001b[38;5;124m\"\u001b[39m\u001b[38;5;124m__reduce_ex__\u001b[39m\u001b[38;5;124m\"\u001b[39m, \u001b[38;5;28;01mNone\u001b[39;00m)\n\u001b[1;32m    160\u001b[0m \u001b[38;5;28;01mif\u001b[39;00m reductor \u001b[38;5;129;01mis\u001b[39;00m \u001b[38;5;129;01mnot\u001b[39;00m \u001b[38;5;28;01mNone\u001b[39;00m:\n\u001b[0;32m--> 161\u001b[0m     rv \u001b[38;5;241m=\u001b[39m \u001b[43mreductor\u001b[49m\u001b[43m(\u001b[49m\u001b[38;5;241;43m4\u001b[39;49m\u001b[43m)\u001b[49m\n\u001b[1;32m    162\u001b[0m \u001b[38;5;28;01melse\u001b[39;00m:\n\u001b[1;32m    163\u001b[0m     reductor \u001b[38;5;241m=\u001b[39m \u001b[38;5;28mgetattr\u001b[39m(x, \u001b[38;5;124m\"\u001b[39m\u001b[38;5;124m__reduce__\u001b[39m\u001b[38;5;124m\"\u001b[39m, \u001b[38;5;28;01mNone\u001b[39;00m)\n",
      "\u001b[0;31mTypeError\u001b[0m: cannot pickle 'pygame.Surface' object"
     ]
    }
   ],
   "source": [
    "\n",
    "# from gymnasium.wrappers import Monitor\n",
    "\n",
    "total_reward = 0  # sum of rewards\n",
    "# test_env = loads(root_snapshot)  # env used to show progress\n",
    "\n",
    "for i in count():\n",
    "\n",
    "    root = get_root(cart_pole_env, obs)\n",
    "    mcts.plan(root)\n",
    "    \n",
    "    # get best child\n",
    "    best_child = root.select_best_leaf() # <YOUR CODE: select child with the highest mean reward>\n",
    "\n",
    "    # take action\n",
    "\n",
    "    if best_child.action is None:\n",
    "      print(\"Finished with reward = \", total_reward)\n",
    "      break\n",
    "\n",
    "    obs, r, terminated, truncated, _ = cart_pole_env.step(best_child.action)\n",
    "\n",
    "    done = terminated or truncated\n",
    "    \n",
    "    # show image\n",
    "    clear_output(True)\n",
    "    plt.title(\"step %i\" % i)\n",
    "    plt.imshow(cart_pole_env.render())\n",
    "    plt.show()\n",
    "\n",
    "    cart_pole_env.close()\n",
    "    \n",
    "    total_reward += r\n",
    "    if done:\n",
    "        print(\"Finished with reward = \", total_reward)\n",
    "        break\n",
    "\n",
    "    # discard unrealized part of the tree [because not every child matters :(]\n",
    "    # for child in root.children:\n",
    "    #     if child != best_child:\n",
    "    #         child.safe_delete()\n",
    "\n",
    "    # if best_child.is_done():\n",
    "    #     print(\"1 Finished with reward = \", total_reward)\n",
    "    #     break\n",
    "\n",
    "    # if best_child.is_leaf():\n",
    "    #   best_child.expand()\n",
    "\n",
    "    # declare best child a new root\n",
    "    # cart_pole_env.close()\n",
    "    \n",
    "\n",
    "    # assert not root.is_leaf(), \\\n",
    "    #     \"We ran out of tree! Need more planning! Try growing the tree right inside the loop.\"\n",
    "\n",
    "    # You may want to run more planning here\n",
    "    # <YOUR CODE>\n",
    "\n"
   ]
  },
  {
   "cell_type": "code",
   "execution_count": null,
   "id": "9d033e95-1a15-484d-8c13-1fba055b4824",
   "metadata": {},
   "outputs": [],
   "source": []
  }
 ],
 "metadata": {
  "kernelspec": {
   "display_name": "Python 3 (ipykernel)",
   "language": "python",
   "name": "python3"
  },
  "language_info": {
   "codemirror_mode": {
    "name": "ipython",
    "version": 3
   },
   "file_extension": ".py",
   "mimetype": "text/x-python",
   "name": "python",
   "nbconvert_exporter": "python",
   "pygments_lexer": "ipython3",
   "version": "3.8.10"
  }
 },
 "nbformat": 4,
 "nbformat_minor": 5
}
